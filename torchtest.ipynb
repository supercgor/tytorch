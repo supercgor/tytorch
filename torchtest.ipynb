{
 "cells": [
  {
   "cell_type": "code",
   "execution_count": null,
   "metadata": {},
   "outputs": [],
   "source": [
    "import torch"
   ]
  },
  {
   "cell_type": "code",
   "execution_count": null,
   "metadata": {},
   "outputs": [],
   "source": [
    "x = torch.empty(5,3)\n",
    "print(type(x))\n",
    "print(x)"
   ]
  },
  {
   "cell_type": "code",
   "execution_count": null,
   "metadata": {},
   "outputs": [],
   "source": [
    "tensor_ones = torch.ones(2,3)\n",
    "print(tensor_ones)\n",
    "tensor_zeros = torch.zeros(2,3)\n",
    "print(tensor_zeros)"
   ]
  },
  {
   "cell_type": "code",
   "execution_count": null,
   "metadata": {},
   "outputs": [],
   "source": [
    "print(tensor_zeros.dtype)\n",
    "tensor_zeros_int = torch.zeros(2,3,dtype=torch.long)\n",
    "print(tensor_zeros_int.dtype)"
   ]
  },
  {
   "cell_type": "code",
   "execution_count": null,
   "metadata": {},
   "outputs": [],
   "source": [
    "x = torch.rand(5,3)\n",
    "print(x)\n",
    "y = torch.randn(5,3)\n",
    "print(y)"
   ]
  },
  {
   "cell_type": "code",
   "execution_count": 8,
   "metadata": {},
   "outputs": [
    {
     "name": "stdout",
     "output_type": "stream",
     "text": [
      "tensor([5.5000, 3.0000])\n"
     ]
    }
   ],
   "source": [
    "x = torch.tensor([5.5, 3])\n",
    "print(x)\n"
   ]
  },
  {
   "cell_type": "code",
   "execution_count": 9,
   "metadata": {},
   "outputs": [
    {
     "name": "stdout",
     "output_type": "stream",
     "text": [
      "torch.float64\n",
      "tensor([[1., 1., 1.],\n",
      "        [1., 1., 1.],\n",
      "        [1., 1., 1.],\n",
      "        [1., 1., 1.],\n",
      "        [1., 1., 1.]], dtype=torch.float64)\n"
     ]
    }
   ],
   "source": [
    "x = torch.tensor([5.5,3], dtype=torch.double)\n",
    "print(x.dtype)\n",
    "x = x.new_ones(5,3)\n",
    "print(x)\n",
    "x = torch.randn_like(x,dtype=torch.float)"
   ]
  },
  {
   "cell_type": "code",
   "execution_count": 10,
   "metadata": {},
   "outputs": [
    {
     "name": "stdout",
     "output_type": "stream",
     "text": [
      "torch.Size([5, 3])\n",
      "5 3\n"
     ]
    }
   ],
   "source": [
    "x_size = x.size()\n",
    "print(x_size)\n",
    "row, col = x_size\n",
    "print(row,col)"
   ]
  },
  {
   "cell_type": "code",
   "execution_count": 11,
   "metadata": {},
   "outputs": [
    {
     "data": {
      "text/plain": [
       "tensor([1, 2, 3, 4, 5, 6, 7, 8, 9])"
      ]
     },
     "execution_count": 11,
     "metadata": {},
     "output_type": "execute_result"
    }
   ],
   "source": [
    "torch.arange(1, 10, 1)"
   ]
  },
  {
   "cell_type": "code",
   "execution_count": 12,
   "metadata": {},
   "outputs": [
    {
     "name": "stdout",
     "output_type": "stream",
     "text": [
      "tensor([[-0.5877,  0.8948,  1.3345],\n",
      "        [ 0.4532,  1.0026, -1.6157],\n",
      "        [ 0.1923, -0.1966,  0.7997],\n",
      "        [-1.7453,  1.5798, -1.4306],\n",
      "        [ 0.7954,  1.2480,  1.7010]])\n"
     ]
    }
   ],
   "source": [
    "y = torch.rand(5, 3)\n",
    "z1 = x+y\n",
    "print(z1)"
   ]
  },
  {
   "cell_type": "code",
   "execution_count": 13,
   "metadata": {},
   "outputs": [
    {
     "name": "stdout",
     "output_type": "stream",
     "text": [
      "tensor([[-0.5877,  0.8948,  1.3345],\n",
      "        [ 0.4532,  1.0026, -1.6157],\n",
      "        [ 0.1923, -0.1966,  0.7997],\n",
      "        [-1.7453,  1.5798, -1.4306],\n",
      "        [ 0.7954,  1.2480,  1.7010]])\n"
     ]
    }
   ],
   "source": [
    "z2 = torch.add(x, y)\n",
    "print(z2)"
   ]
  },
  {
   "cell_type": "code",
   "execution_count": 14,
   "metadata": {},
   "outputs": [
    {
     "name": "stdout",
     "output_type": "stream",
     "text": [
      "tensor([[-0.5877,  0.8948,  1.3345],\n",
      "        [ 0.4532,  1.0026, -1.6157],\n",
      "        [ 0.1923, -0.1966,  0.7997],\n",
      "        [-1.7453,  1.5798, -1.4306],\n",
      "        [ 0.7954,  1.2480,  1.7010]])\n"
     ]
    }
   ],
   "source": [
    "z3 = torch.empty(5, 3)\n",
    "torch.add(x, y, out=z3)\n",
    "print(z3)"
   ]
  },
  {
   "cell_type": "code",
   "execution_count": 15,
   "metadata": {},
   "outputs": [
    {
     "name": "stdout",
     "output_type": "stream",
     "text": [
      "tensor([[-0.5877,  0.8948,  1.3345],\n",
      "        [ 0.4532,  1.0026, -1.6157],\n",
      "        [ 0.1923, -0.1966,  0.7997],\n",
      "        [-1.7453,  1.5798, -1.4306],\n",
      "        [ 0.7954,  1.2480,  1.7010]])\n"
     ]
    }
   ],
   "source": [
    "y.add_(x)\n",
    "print(y)"
   ]
  },
  {
   "cell_type": "code",
   "execution_count": 16,
   "metadata": {},
   "outputs": [
    {
     "name": "stdout",
     "output_type": "stream",
     "text": [
      "tensor([[ 0.9885,  1.7463,  2.1286],\n",
      "        [-1.1637,  0.6068, -1.9346]])\n",
      "tensor([[ 0.8273, -0.3069, -0.0676],\n",
      "        [-0.1522, -0.2809, -1.0866]])\n",
      "tensor([[ 0.1612,  2.0532,  2.1962],\n",
      "        [-1.0114,  0.8877, -0.8480]])\n",
      "tensor([[ 0.8178, -0.5360, -0.1438],\n",
      "        [ 0.1771, -0.1705,  2.1021]])\n",
      "tensor([[  1.1948,  -5.6893, -31.5031],\n",
      "        [  7.6447,  -2.1604,   1.7804]])\n"
     ]
    }
   ],
   "source": [
    "a = torch.randn(2, 3)\n",
    "print(a)\n",
    "b = torch.randn(2, 3)\n",
    "print(b)\n",
    "\n",
    "c = torch.sub(a, b)\n",
    "print(c)\n",
    "d = torch.mul(a, b)\n",
    "print(d)\n",
    "e = torch.div(a, b)\n",
    "print(e)\n"
   ]
  },
  {
   "cell_type": "code",
   "execution_count": 17,
   "metadata": {},
   "outputs": [
    {
     "name": "stdout",
     "output_type": "stream",
     "text": [
      "tensor([[-0.8232, -0.0778, -0.9092],\n",
      "        [ 1.0921, -0.0154, -0.1581]])\n",
      "tensor([[-8.2320, -0.7783, -9.0920],\n",
      "        [10.9214, -0.1545, -1.5809]])\n",
      "tensor([[-0.0823, -0.0078, -0.0909],\n",
      "        [ 0.1092, -0.0015, -0.0158]])\n"
     ]
    }
   ],
   "source": [
    "a = torch.randn(2,3)\n",
    "print(a)\n",
    "b = torch.mul(a,10)\n",
    "print(b)\n",
    "c = torch.div(a,10)\n",
    "print(c)\n"
   ]
  },
  {
   "cell_type": "code",
   "execution_count": 18,
   "metadata": {},
   "outputs": [
    {
     "name": "stdout",
     "output_type": "stream",
     "text": [
      "tensor([[-0.1715, -1.2408, -1.0224],\n",
      "        [ 0.0805, -1.2096, -1.7069]])\n",
      "tensor([[0.1304, 0.7541],\n",
      "        [0.3339, 0.9186],\n",
      "        [0.2769, 0.3612]])\n",
      "tensor([[-0.7198, -1.6384],\n",
      "        [-0.8660, -1.6670]])\n"
     ]
    }
   ],
   "source": [
    "a = torch.randn(2,3)\n",
    "print(a)\n",
    "b = torch.rand(3,2)\n",
    "print(b)\n",
    "c = torch.mm(a,b)\n",
    "print(c)"
   ]
  },
  {
   "cell_type": "code",
   "execution_count": 19,
   "metadata": {},
   "outputs": [
    {
     "name": "stdout",
     "output_type": "stream",
     "text": [
      "tensor([[ 1.3588, -2.4076,  1.4915],\n",
      "        [-0.3568, -1.7946,  0.6233]])\n",
      "tensor([[1.3588, 2.4076, 1.4915],\n",
      "        [0.3568, 1.7946, 0.6233]])\n"
     ]
    }
   ],
   "source": [
    "a=torch.randn(2,3)\n",
    "print(a)\n",
    "b=torch.abs(a)\n",
    "print(b)"
   ]
  },
  {
   "cell_type": "code",
   "execution_count": 20,
   "metadata": {},
   "outputs": [
    {
     "name": "stdout",
     "output_type": "stream",
     "text": [
      "tensor([[ 1.9136, -1.4961, -0.3690],\n",
      "        [-1.1165, -0.6045, -2.2466]])\n",
      "tensor([[3.6618, 2.2384, 0.1362],\n",
      "        [1.2465, 0.3654, 5.0472]])\n"
     ]
    }
   ],
   "source": [
    "a = torch.randn(2,3)\n",
    "print(a)\n",
    "b = torch.pow(a,2)\n",
    "print(b)"
   ]
  },
  {
   "cell_type": "code",
   "execution_count": 24,
   "metadata": {},
   "outputs": [
    {
     "name": "stdout",
     "output_type": "stream",
     "text": [
      "tensor([[-0.6766,  0.0212,  0.4698],\n",
      "        [ 0.1431,  0.3185, -1.9290],\n",
      "        [-0.1790, -1.0207,  0.1910],\n",
      "        [-2.5729,  1.4697, -1.9364],\n",
      "        [ 0.7135,  1.1224,  1.0760]])\n"
     ]
    }
   ],
   "source": [
    "print(x[:,:])"
   ]
  },
  {
   "cell_type": "code",
   "execution_count": 27,
   "metadata": {},
   "outputs": [
    {
     "name": "stdout",
     "output_type": "stream",
     "text": [
      "tensor([[-0.3836,  0.0195, -0.9976, -0.5053],\n",
      "        [ 0.0894,  1.9141, -0.5155, -0.7144],\n",
      "        [ 1.3354, -0.8256,  1.4721,  0.1610],\n",
      "        [-0.1071, -1.4175, -0.5509, -1.3197]])\n",
      "tensor([-0.3836,  0.0195, -0.9976, -0.5053,  0.0894,  1.9141, -0.5155, -0.7144,\n",
      "         1.3354, -0.8256,  1.4721,  0.1610, -0.1071, -1.4175, -0.5509, -1.3197])\n",
      "tensor([[-0.3836,  0.0195, -0.9976, -0.5053,  0.0894,  1.9141, -0.5155, -0.7144],\n",
      "        [ 1.3354, -0.8256,  1.4721,  0.1610, -0.1071, -1.4175, -0.5509, -1.3197]])\n",
      "torch.Size([4, 4]) torch.Size([16]) torch.Size([2, 8])\n"
     ]
    }
   ],
   "source": [
    "x = torch.randn(4,4)\n",
    "y = x.view(16)\n",
    "z = x.view(-1,8)\n",
    "print(x)\n",
    "print(y)\n",
    "print(z)\n",
    "print(x.size(),y.size(),z.size())"
   ]
  },
  {
   "cell_type": "code",
   "execution_count": 28,
   "metadata": {},
   "outputs": [
    {
     "name": "stdout",
     "output_type": "stream",
     "text": [
      "tensor([[ 1.3559, -0.3447,  0.1681],\n",
      "        [ 0.7768,  0.1659, -0.3428]])\n",
      "tensor([[ 1.3559, -0.3447,  0.1681],\n",
      "        [ 0.7768,  0.1659, -0.3428],\n",
      "        [ 1.3559, -0.3447,  0.1681],\n",
      "        [ 0.7768,  0.1659, -0.3428],\n",
      "        [ 1.3559, -0.3447,  0.1681],\n",
      "        [ 0.7768,  0.1659, -0.3428]])\n",
      "tensor([[ 1.3559, -0.3447,  0.1681,  1.3559, -0.3447,  0.1681,  1.3559, -0.3447,\n",
      "          0.1681],\n",
      "        [ 0.7768,  0.1659, -0.3428,  0.7768,  0.1659, -0.3428,  0.7768,  0.1659,\n",
      "         -0.3428]])\n"
     ]
    }
   ],
   "source": [
    "x = torch.randn(2, 3)\n",
    "print(x)\n",
    "x_cat_dim0 = torch.cat((x, x, x), dim=0)\n",
    "x_cat_dim1 = torch.cat((x, x, x), dim=1)\n",
    "print(x_cat_dim0)\n",
    "print(x_cat_dim1)"
   ]
  },
  {
   "cell_type": "code",
   "execution_count": 29,
   "metadata": {},
   "outputs": [
    {
     "name": "stdout",
     "output_type": "stream",
     "text": [
      "tensor([0.6526])\n",
      "torch.Size([1])\n",
      "0.6525796055793762\n",
      "<class 'float'>\n"
     ]
    }
   ],
   "source": [
    "x = torch.randn(1)\n",
    "print(x)\n",
    "print(x.size())\n",
    "print(x.item())\n",
    "print(type(x.item()))"
   ]
  },
  {
   "cell_type": "code",
   "execution_count": 30,
   "metadata": {},
   "outputs": [
    {
     "name": "stdout",
     "output_type": "stream",
     "text": [
      "tensor([[ 1.8601,  0.1042,  0.3347],\n",
      "        [ 1.5871,  1.3555, -0.4067]])\n",
      "tensor([[ 0.5000,  0.1042,  0.3347],\n",
      "        [ 0.5000,  0.5000, -0.4067]])\n"
     ]
    }
   ],
   "source": [
    "a = torch.randn(2,3)\n",
    "print(a)\n",
    "b = torch.clamp(a,-0.5,0.5)\n",
    "print(b)"
   ]
  },
  {
   "cell_type": "code",
   "execution_count": 35,
   "metadata": {},
   "outputs": [
    {
     "name": "stdout",
     "output_type": "stream",
     "text": [
      "[1. 1. 1. 1. 1.]\n",
      "<class 'numpy.ndarray'>\n"
     ]
    }
   ],
   "source": [
    "import numpy as np\n",
    "a = torch.ones(5)\n",
    "b = a.numpy()\n",
    "print(b)\n",
    "print(type(b))"
   ]
  },
  {
   "cell_type": "code",
   "execution_count": 36,
   "metadata": {},
   "outputs": [
    {
     "name": "stdout",
     "output_type": "stream",
     "text": [
      "tensor([2., 2., 2., 2., 2.])\n",
      "[2. 2. 2. 2. 2.]\n"
     ]
    }
   ],
   "source": [
    "a.add_(1)\n",
    "print(a)\n",
    "print(b)"
   ]
  },
  {
   "cell_type": "code",
   "execution_count": 37,
   "metadata": {},
   "outputs": [
    {
     "name": "stdout",
     "output_type": "stream",
     "text": [
      "[2. 2. 2. 2. 2.]\n",
      "tensor([2., 2., 2., 2., 2.], dtype=torch.float64)\n"
     ]
    }
   ],
   "source": [
    "a = np.ones(5)\n",
    "b = torch.from_numpy(a)\n",
    "np.add(a, 1, out=a)\n",
    "print(a)\n",
    "print(b)"
   ]
  },
  {
   "cell_type": "code",
   "execution_count": 38,
   "metadata": {},
   "outputs": [
    {
     "name": "stdout",
     "output_type": "stream",
     "text": [
      "True\n"
     ]
    }
   ],
   "source": [
    "print(torch.cuda.is_available())"
   ]
  },
  {
   "cell_type": "code",
   "execution_count": 39,
   "metadata": {},
   "outputs": [
    {
     "name": "stdout",
     "output_type": "stream",
     "text": [
      "tensor([1.6526], device='cuda:0')\n",
      "tensor([1.6526], dtype=torch.float64)\n"
     ]
    }
   ],
   "source": [
    "if torch.cuda.is_available():\n",
    "    device = torch.device(\"cuda\")\n",
    "    y = torch.ones_like(x,device=device)\n",
    "    x = x.to(device)\n",
    "    z = x+y\n",
    "    print(z)\n",
    "    print(z.to(\"cpu\",torch.double))"
   ]
  },
  {
   "cell_type": "code",
   "execution_count": null,
   "metadata": {},
   "outputs": [],
   "source": []
  }
 ],
 "metadata": {
  "kernelspec": {
   "display_name": "Python 3.8.10 ('tytorch': venv)",
   "language": "python",
   "name": "python3"
  },
  "language_info": {
   "codemirror_mode": {
    "name": "ipython",
    "version": 3
   },
   "file_extension": ".py",
   "mimetype": "text/x-python",
   "name": "python",
   "nbconvert_exporter": "python",
   "pygments_lexer": "ipython3",
   "version": "3.8.10"
  },
  "orig_nbformat": 4,
  "vscode": {
   "interpreter": {
    "hash": "7b54fb8822f8bd57b64387997ebc5890a6df68cdeb31085e8585fa83fd840068"
   }
  }
 },
 "nbformat": 4,
 "nbformat_minor": 2
}
